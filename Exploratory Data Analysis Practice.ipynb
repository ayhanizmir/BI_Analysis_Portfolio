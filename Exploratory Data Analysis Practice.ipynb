{
 "cells": [
  {
   "cell_type": "markdown",
   "metadata": {},
   "source": [
    "## Bike Sharing in Boston\n",
    "#### (Exploratory Data Analysis 2019 vs 2020)\n",
    "##### Source = https://www.kaggle.com/jackdaoud/bluebikes-in-boston"
   ]
  },
  {
   "cell_type": "markdown",
   "metadata": {},
   "source": [
    "#### First, we need to import neccessary libraries and loading the datasets\n"
   ]
  },
  {
   "cell_type": "code",
   "execution_count": 1,
   "metadata": {},
   "outputs": [],
   "source": [
    "import pandas as pd\n",
    "import numpy as np\n",
    "import matplotlib.pyplot as plt\n",
    "import seaborn as sns\n",
    "from sklearn.cluster import KMeans\n",
    "%matplotlib inline\n",
    "sns.set_style(\"whitegrid\")"
   ]
  },
  {
   "cell_type": "code",
   "execution_count": 2,
   "metadata": {},
   "outputs": [
    {
     "name": "stderr",
     "output_type": "stream",
     "text": [
      "C:\\Users\\ayhan\\anaconda3\\lib\\site-packages\\IPython\\core\\interactiveshell.py:3071: DtypeWarning: Columns (13) have mixed types.Specify dtype option on import or set low_memory=False.\n",
      "  has_raised = await self.run_ast_nodes(code_ast.body, cell_name,\n"
     ]
    }
   ],
   "source": [
    "trip_2019 = pd.read_csv(\"bluebikes_tripdata_2019.csv\")\n",
    "trip_2020 = pd.read_csv(\"bluebikes_tripdata_2020.csv\")"
   ]
  },
  {
   "cell_type": "markdown",
   "metadata": {},
   "source": [
    "#### Let's take a look what we got"
   ]
  },
  {
   "cell_type": "code",
   "execution_count": 3,
   "metadata": {},
   "outputs": [],
   "source": [
    "#trip_2019.head()\n",
    "#trip_2019.tail()\n",
    "\n",
    "#trip_2020.head()\n",
    "#trip_2019.tail()"
   ]
  },
  {
   "cell_type": "code",
   "execution_count": 4,
   "metadata": {},
   "outputs": [
    {
     "data": {
      "text/plain": [
       "' It seems we have postal code in 2020 and not in 2019, ok we will take care of this later '"
      ]
     },
     "execution_count": 4,
     "metadata": {},
     "output_type": "execute_result"
    }
   ],
   "source": [
    "pd.DataFrame([trip_2019.dtypes,trip_2020.dtypes], index=[2019,2020])\n",
    "# It seems we have postal code in 2020 and not in 2019, ok we will take care of this later"
   ]
  },
  {
   "cell_type": "code",
   "execution_count": 5,
   "metadata": {},
   "outputs": [
    {
     "name": "stdout",
     "output_type": "stream",
     "text": [
      "Value Counts(2019): 2522771\n",
      "Value Counts(2020): 1999446\n",
      "Ratio of 2020 usage compared to 2019: -0.21\n"
     ]
    },
    {
     "data": {
      "text/plain": [
       "' Bike sharing seems to have decreased 21% from 2019 to 2020 '"
      ]
     },
     "execution_count": 5,
     "metadata": {},
     "output_type": "execute_result"
    }
   ],
   "source": [
    "print(\"Value Counts(2019):\",len(trip_2019))\n",
    "print(\"Value Counts(2020):\",len(trip_2020))\n",
    "print(\"Ratio of 2020 usage compared to 2019:\", round((len(trip_2020)-len(trip_2019))/len(trip_2019),2))"
   ]
  },
  {
   "cell_type": "markdown",
   "metadata": {},
   "source": [
    "#### Dealing with Null Values (if exists)"
   ]
  },
  {
   "cell_type": "code",
   "execution_count": 6,
   "metadata": {},
   "outputs": [
    {
     "data": {
      "text/plain": [
       "' Ok we do not have any null values in 2019, that is great '"
      ]
     },
     "execution_count": 6,
     "metadata": {},
     "output_type": "execute_result"
    }
   ],
   "source": [
    "## Checking 2019 data if there is any null value\n",
    "outcome_2019 = []\n",
    "for col in range(len(trip_2019.columns)):\n",
    "    check = trip_2019[trip_2019.columns[col]]\n",
    "    check_null = sum(check.isnull())\n",
    "    outcome_2019.append(check_null)\n",
    "\n",
    "null_count_2019 = pd.DataFrame(data=outcome_2019).T\n",
    "null_count_2019.columns = trip_2019.columns\n",
    "null_count_2019\n",
    "\n",
    "# Ok we do not have any null values in 2019, that is great '''"
   ]
  },
  {
   "cell_type": "code",
   "execution_count": 7,
   "metadata": {},
   "outputs": [
    {
     "data": {
      "text/plain": [
       "' We will deal with these null values '"
      ]
     },
     "execution_count": 7,
     "metadata": {},
     "output_type": "execute_result"
    }
   ],
   "source": [
    "## Checking 2020 data if there is any null value\n",
    "outcome_2020 = []\n",
    "for col in range(len(trip_2020.columns)):\n",
    "    check = trip_2020[trip_2020.columns[col]]\n",
    "    check_null = sum(check.isnull())\n",
    "    outcome_2020.append(check_null)\n",
    "\n",
    "null_count_2020 = pd.DataFrame(data=outcome_2020).T\n",
    "null_count_2020.columns = trip_2020.columns\n",
    "null_count_2020\n",
    "\n",
    "# We will deal with these null values"
   ]
  },
  {
   "cell_type": "code",
   "execution_count": 8,
   "metadata": {},
   "outputs": [
    {
     "data": {
      "text/plain": [
       "[0.791954371360867, 0.791954371360867, 0.27873170868330527]"
      ]
     },
     "execution_count": 8,
     "metadata": {},
     "output_type": "execute_result"
    }
   ],
   "source": [
    "## Calculate the null value ratio in 2020\n",
    "gender_null_rate = sum(trip_2020[\"gender\"].isnull()) / len(trip_2020[\"gender\"])\n",
    "birth_null_rate = sum(trip_2020[\"birth year\"].isnull()) / len(trip_2020[\"birth year\"])\n",
    "postal_null_rate = sum(trip_2020[\"postal code\"].isnull()) / len(trip_2020[\"postal code\"])\n",
    "[gender_null_rate, birth_null_rate, postal_null_rate]"
   ]
  },
  {
   "cell_type": "code",
   "execution_count": 9,
   "metadata": {},
   "outputs": [],
   "source": [
    "# Lets drop these columns because of the having major null-value-ratio\n",
    "trip_2019.drop([\"gender\",\"birth year\"], axis=1, inplace=True)\n",
    "trip_2020.drop([\"gender\",\"birth year\",\"postal code\"], axis=1, inplace=True)"
   ]
  },
  {
   "cell_type": "code",
   "execution_count": 10,
   "metadata": {},
   "outputs": [],
   "source": [
    "# trip_2019.head()\n",
    "# trip_2020.head()"
   ]
  },
  {
   "cell_type": "markdown",
   "metadata": {},
   "source": [
    "#### Dealing with Outliers"
   ]
  },
  {
   "cell_type": "code",
   "execution_count": 11,
   "metadata": {},
   "outputs": [],
   "source": [
    "## Finding outliers with using Z score\n",
    "outliers=[]\n",
    "def detect_outlier(data_1):\n",
    "    \n",
    "    outliers.clear()\n",
    "    threshold=3\n",
    "    mean_1 = np.mean(data_1)\n",
    "    std_1 =np.std(data_1)\n",
    "    \n",
    "    \n",
    "    for y in data_1:\n",
    "        z_score= (y - mean_1)/std_1 \n",
    "        if np.abs(z_score) > threshold:\n",
    "            outliers.append(y)\n",
    "    return outliers"
   ]
  },
  {
   "cell_type": "code",
   "execution_count": 12,
   "metadata": {},
   "outputs": [
    {
     "name": "stdout",
     "output_type": "stream",
     "text": [
      "2019 Trip Duration Outlier Ratio: 0.0005\n",
      "2020 Trip Duration Outlier Ratio: 0.0013\n"
     ]
    }
   ],
   "source": [
    "outlier_tripduration_2019 = len(detect_outlier(trip_2019[\"tripduration\"])) / len(trip_2019[\"tripduration\"])\n",
    "outlier_tripduration_2020 = len(detect_outlier(trip_2020[\"tripduration\"])) / len(trip_2020[\"tripduration\"])\n",
    "print(\"2019 Trip Duration Outlier Ratio:\", round(outlier_tripduration_2019,4))\n",
    "print(\"2020 Trip Duration Outlier Ratio:\", round(outlier_tripduration_2020,4))"
   ]
  },
  {
   "cell_type": "markdown",
   "metadata": {},
   "source": [
    "#### Correlations between trip duration and start/end station"
   ]
  },
  {
   "cell_type": "code",
   "execution_count": 13,
   "metadata": {},
   "outputs": [
    {
     "name": "stdout",
     "output_type": "stream",
     "text": [
      "Trip Duration & Start Station Corr (2019): 0.0044\n",
      "Trip Duration & End Station Corr (2019): -0.0022\n"
     ]
    }
   ],
   "source": [
    "print(\"Trip Duration & Start Station Corr (2019):\" , round(trip_2019[\"tripduration\"].corr(trip_2019[\"start station id\"]),4))\n",
    "print(\"Trip Duration & End Station Corr (2019):\" , round(trip_2019[\"tripduration\"].corr(trip_2019[\"end station id\"]),4))"
   ]
  },
  {
   "cell_type": "code",
   "execution_count": 14,
   "metadata": {},
   "outputs": [
    {
     "name": "stdout",
     "output_type": "stream",
     "text": [
      "Trip Duration & Start Station Corr (2020): 0.0061\n",
      "Trip Duration & End Station Corr (2020): -0.0006\n"
     ]
    }
   ],
   "source": [
    "print(\"Trip Duration & Start Station Corr (2020):\" , round(trip_2020[\"tripduration\"].corr(trip_2020[\"start station id\"]),4))\n",
    "print(\"Trip Duration & End Station Corr (2020):\" , round(trip_2020[\"tripduration\"].corr(trip_2020[\"end station id\"]),4))"
   ]
  },
  {
   "cell_type": "markdown",
   "metadata": {},
   "source": [
    "#### Checking the change in bike id"
   ]
  },
  {
   "cell_type": "code",
   "execution_count": 15,
   "metadata": {},
   "outputs": [
    {
     "data": {
      "text/plain": [
       "' Probably bikes are getting renewed '"
      ]
     },
     "execution_count": 15,
     "metadata": {},
     "output_type": "execute_result"
    },
    {
     "data": {
      "image/png": "[encoded data removed]",
      "text/plain": [
       "<Figure size 1080x288 with 1 Axes>"
      ]
     },
     "metadata": {},
     "output_type": "display_data"
    }
   ],
   "source": [
    "plt.figure(figsize=(15,4))\n",
    "sns.distplot(trip_2019[\"bikeid\"], kde=False, bins=50, label=\"2019\")\n",
    "sns.distplot(trip_2020[\"bikeid\"], kde=False, bins=50, label=\"2020\")\n",
    "plt.title(\"Bike Usage 2019 & 2020 (Calculating with bike id)\")\n",
    "plt.xlabel(\"Unique Bike IDs\")\n",
    "plt.ylabel(\"Total Usage\")\n",
    "plt.legend()\n",
    "\n",
    "## It seems some bikes which were used in 2019 did not used in 2020 (left side)\n",
    "## Probably bikes are getting renewed"
   ]
  },
  {
   "cell_type": "markdown",
   "metadata": {},
   "source": [
    "#### Let's take a look at bike-using times in a day"
   ]
  },
  {
   "cell_type": "code",
   "execution_count": 16,
   "metadata": {},
   "outputs": [],
   "source": [
    "to_datetime_2019 = pd.to_datetime(trip_2019[\"starttime\"])\n",
    "to_datetime_2020 = pd.to_datetime(trip_2020[\"starttime\"])"
   ]
  },
  {
   "cell_type": "code",
   "execution_count": 17,
   "metadata": {},
   "outputs": [
    {
     "name": "stdout",
     "output_type": "stream",
     "text": [
      "At Night Hours: 64997\n",
      "Before Midday: 768299\n",
      "After Midday: 1689475\n"
     ]
    }
   ],
   "source": [
    "### Checking the using hours in 2019\n",
    "\n",
    "hours_2019 = []\n",
    "for i in to_datetime_2019:\n",
    "    hours_2019.append(i.hour)\n",
    "\n",
    "night_hours_2019 = 0\n",
    "am_hours_2019 = 0\n",
    "pm_hours_2019 = 0\n",
    "for x in hours_2019:\n",
    "    if x in [0,1,2,3,4,5]:\n",
    "        night_hours_2019 += 1\n",
    "    elif x in [6,7,8,9,10,11]:\n",
    "        am_hours_2019 += 1\n",
    "    else:\n",
    "        pm_hours_2019 += 1\n",
    "\n",
    "print(\"At Night Hours:\",night_hours_2019)\n",
    "print(\"Before Midday:\",am_hours_2019)\n",
    "print(\"After Midday:\",pm_hours_2019)"
   ]
  },
  {
   "cell_type": "code",
   "execution_count": 18,
   "metadata": {},
   "outputs": [
    {
     "name": "stdout",
     "output_type": "stream",
     "text": [
      "At Night Hours: 62231\n",
      "Before Midday: 483118\n",
      "After Midday: 1454097\n"
     ]
    }
   ],
   "source": [
    "### Checking the using hours in 2020\n",
    "\n",
    "hours_2020 = []\n",
    "for i in to_datetime_2020:\n",
    "    hours_2020.append(i.hour)\n",
    "\n",
    "night_hours_2020 = 0\n",
    "am_hours_2020 = 0\n",
    "pm_hours_2020 = 0\n",
    "for x in hours_2020:\n",
    "    if x in [0,1,2,3,4,5]:\n",
    "        night_hours_2020 += 1\n",
    "    elif x in [6,7,8,9,10,11]:\n",
    "        am_hours_2020 += 1\n",
    "    else:\n",
    "        pm_hours_2020 += 1\n",
    "\n",
    "print(\"At Night Hours:\",night_hours_2020)\n",
    "print(\"Before Midday:\",am_hours_2020)\n",
    "print(\"After Midday:\",pm_hours_2020)"
   ]
  },
  {
   "cell_type": "code",
   "execution_count": 19,
   "metadata": {
    "scrolled": false
   },
   "outputs": [
    {
     "data": {
      "text/html": [
       "<div>\n",
       "<style scoped>\n",
       "    .dataframe tbody tr th:only-of-type {\n",
       "        vertical-align: middle;\n",
       "    }\n",
       "\n",
       "    .dataframe tbody tr th {\n",
       "        vertical-align: top;\n",
       "    }\n",
       "\n",
       "    .dataframe thead th {\n",
       "        text-align: right;\n",
       "    }\n",
       "</style>\n",
       "<table border=\"1\" class=\"dataframe\">\n",
       "  <thead>\n",
       "    <tr style=\"text-align: right;\">\n",
       "      <th></th>\n",
       "      <th>At Night Hours</th>\n",
       "      <th>Before Midday</th>\n",
       "      <th>After Midday</th>\n",
       "    </tr>\n",
       "  </thead>\n",
       "  <tbody>\n",
       "    <tr>\n",
       "      <th>2019</th>\n",
       "      <td>64997</td>\n",
       "      <td>768299</td>\n",
       "      <td>1689475</td>\n",
       "    </tr>\n",
       "    <tr>\n",
       "      <th>2020</th>\n",
       "      <td>62231</td>\n",
       "      <td>483118</td>\n",
       "      <td>1454097</td>\n",
       "    </tr>\n",
       "  </tbody>\n",
       "</table>\n",
       "</div>"
      ],
      "text/plain": [
       "      At Night Hours  Before Midday  After Midday\n",
       "2019           64997         768299       1689475\n",
       "2020           62231         483118       1454097"
      ]
     },
     "execution_count": 19,
     "metadata": {},
     "output_type": "execute_result"
    }
   ],
   "source": [
    "busy_times_2019 = pd.DataFrame([night_hours_2019,am_hours_2019,pm_hours_2019]).transpose()\n",
    "busy_times_2019.columns = [\"At Night Hours\", \"Before Midday\", \"After Midday\"]\n",
    "busy_times_2019.index = [2019]\n",
    "\n",
    "busy_times_2020 = pd.DataFrame([night_hours_2020,am_hours_2020,pm_hours_2020]).transpose()\n",
    "busy_times_2020.columns = [\"At Night Hours\", \"Before Midday\", \"After Midday\"]\n",
    "busy_times_2020.index = [2020]\n",
    "\n",
    "combine_19_20 = pd.concat([busy_times_2019,busy_times_2020])\n",
    "combine_19_20"
   ]
  },
  {
   "cell_type": "code",
   "execution_count": 20,
   "metadata": {
    "scrolled": true
   },
   "outputs": [
    {
     "data": {
      "text/plain": [
       "' It seems the customers highly prefer using bike after midday '"
      ]
     },
     "execution_count": 20,
     "metadata": {},
     "output_type": "execute_result"
    },
    {
     "data": {
      "image/png": "[encoded data removed]",
      "text/plain": [
       "<Figure size 1080x288 with 1 Axes>"
      ]
     },
     "metadata": {},
     "output_type": "display_data"
    }
   ],
   "source": [
    "combine_19_20.plot(kind=\"bar\", figsize=(15,4))\n",
    "plt.title(\"Usage Hours in 2019 & 2020\")\n",
    "## It seems the customers highly prefer using bike after midday '''"
   ]
  },
  {
   "cell_type": "markdown",
   "metadata": {},
   "source": [
    "#### Now, we are going to try clustering this data"
   ]
  },
  {
   "cell_type": "code",
   "execution_count": 21,
   "metadata": {},
   "outputs": [
    {
     "name": "stderr",
     "output_type": "stream",
     "text": [
      "C:\\Users\\ayhan\\anaconda3\\lib\\site-packages\\pandas\\core\\frame.py:2963: SettingWithCopyWarning: \n",
      "A value is trying to be set on a copy of a slice from a DataFrame.\n",
      "Try using .loc[row_indexer,col_indexer] = value instead\n",
      "\n",
      "See the caveats in the documentation: https://pandas.pydata.org/pandas-docs/stable/user_guide/indexing.html#returning-a-view-versus-a-copy\n",
      "  self[k1] = value[k2]\n",
      "<ipython-input-21-13a516962d87>:4: SettingWithCopyWarning: \n",
      "A value is trying to be set on a copy of a slice from a DataFrame.\n",
      "Try using .loc[row_indexer,col_indexer] = value instead\n",
      "\n",
      "See the caveats in the documentation: https://pandas.pydata.org/pandas-docs/stable/user_guide/indexing.html#returning-a-view-versus-a-copy\n",
      "  new_data[\"month\"] = new_data[\"month\"].map({1:\"January\", 2:\"February\", 3:\"March\", 4:\"April\", 5:\"May\", 6:\"June\", 7:\"July\",\n"
     ]
    }
   ],
   "source": [
    "new_data = trip_2019[[\"tripduration\",\"usertype\",\"month\"]]\n",
    "new_data[[\"Customer\",\"Subscriber\"]] = pd.get_dummies(new_data[\"usertype\"])\n",
    "\n",
    "new_data[\"month\"] = new_data[\"month\"].map({1:\"January\", 2:\"February\", 3:\"March\", 4:\"April\", 5:\"May\", 6:\"June\", 7:\"July\",\n",
    "                      8:\"August\", 9:\"September\", 10:\"October\", 11:\"November\", 12:\"December\"})\n",
    "\n",
    "new_data[['April', 'August', 'December', 'February', 'January', 'July', 'June',\n",
    "       'March', 'May', 'November', 'October', 'September']] = pd.get_dummies(new_data[\"month\"])\n",
    "\n",
    "new_data.drop(new_data[[\"usertype\",\"month\"]],axis=1,inplace=True)"
   ]
  },
  {
   "cell_type": "code",
   "execution_count": 22,
   "metadata": {
    "scrolled": true
   },
   "outputs": [
    {
     "data": {
      "text/html": [
       "<div>\n",
       "<style scoped>\n",
       "    .dataframe tbody tr th:only-of-type {\n",
       "        vertical-align: middle;\n",
       "    }\n",
       "\n",
       "    .dataframe tbody tr th {\n",
       "        vertical-align: top;\n",
       "    }\n",
       "\n",
       "    .dataframe thead th {\n",
       "        text-align: right;\n",
       "    }\n",
       "</style>\n",
       "<table border=\"1\" class=\"dataframe\">\n",
       "  <thead>\n",
       "    <tr style=\"text-align: right;\">\n",
       "      <th></th>\n",
       "      <th>tripduration</th>\n",
       "      <th>Customer</th>\n",
       "      <th>Subscriber</th>\n",
       "      <th>April</th>\n",
       "      <th>August</th>\n",
       "      <th>December</th>\n",
       "      <th>February</th>\n",
       "      <th>January</th>\n",
       "      <th>July</th>\n",
       "      <th>June</th>\n",
       "      <th>March</th>\n",
       "      <th>May</th>\n",
       "      <th>November</th>\n",
       "      <th>October</th>\n",
       "      <th>September</th>\n",
       "    </tr>\n",
       "  </thead>\n",
       "  <tbody>\n",
       "    <tr>\n",
       "      <th>0</th>\n",
       "      <td>790</td>\n",
       "      <td>0</td>\n",
       "      <td>1</td>\n",
       "      <td>0</td>\n",
       "      <td>0</td>\n",
       "      <td>1</td>\n",
       "      <td>0</td>\n",
       "      <td>0</td>\n",
       "      <td>0</td>\n",
       "      <td>0</td>\n",
       "      <td>0</td>\n",
       "      <td>0</td>\n",
       "      <td>0</td>\n",
       "      <td>0</td>\n",
       "      <td>0</td>\n",
       "    </tr>\n",
       "    <tr>\n",
       "      <th>1</th>\n",
       "      <td>166</td>\n",
       "      <td>0</td>\n",
       "      <td>1</td>\n",
       "      <td>0</td>\n",
       "      <td>0</td>\n",
       "      <td>1</td>\n",
       "      <td>0</td>\n",
       "      <td>0</td>\n",
       "      <td>0</td>\n",
       "      <td>0</td>\n",
       "      <td>0</td>\n",
       "      <td>0</td>\n",
       "      <td>0</td>\n",
       "      <td>0</td>\n",
       "      <td>0</td>\n",
       "    </tr>\n",
       "    <tr>\n",
       "      <th>2</th>\n",
       "      <td>323</td>\n",
       "      <td>0</td>\n",
       "      <td>1</td>\n",
       "      <td>0</td>\n",
       "      <td>0</td>\n",
       "      <td>1</td>\n",
       "      <td>0</td>\n",
       "      <td>0</td>\n",
       "      <td>0</td>\n",
       "      <td>0</td>\n",
       "      <td>0</td>\n",
       "      <td>0</td>\n",
       "      <td>0</td>\n",
       "      <td>0</td>\n",
       "      <td>0</td>\n",
       "    </tr>\n",
       "    <tr>\n",
       "      <th>3</th>\n",
       "      <td>709</td>\n",
       "      <td>0</td>\n",
       "      <td>1</td>\n",
       "      <td>0</td>\n",
       "      <td>0</td>\n",
       "      <td>1</td>\n",
       "      <td>0</td>\n",
       "      <td>0</td>\n",
       "      <td>0</td>\n",
       "      <td>0</td>\n",
       "      <td>0</td>\n",
       "      <td>0</td>\n",
       "      <td>0</td>\n",
       "      <td>0</td>\n",
       "      <td>0</td>\n",
       "    </tr>\n",
       "    <tr>\n",
       "      <th>4</th>\n",
       "      <td>332</td>\n",
       "      <td>0</td>\n",
       "      <td>1</td>\n",
       "      <td>0</td>\n",
       "      <td>0</td>\n",
       "      <td>1</td>\n",
       "      <td>0</td>\n",
       "      <td>0</td>\n",
       "      <td>0</td>\n",
       "      <td>0</td>\n",
       "      <td>0</td>\n",
       "      <td>0</td>\n",
       "      <td>0</td>\n",
       "      <td>0</td>\n",
       "      <td>0</td>\n",
       "    </tr>\n",
       "  </tbody>\n",
       "</table>\n",
       "</div>"
      ],
      "text/plain": [
       "   tripduration  Customer  Subscriber  April  August  December  February  \\\n",
       "0           790         0           1      0       0         1         0   \n",
       "1           166         0           1      0       0         1         0   \n",
       "2           323         0           1      0       0         1         0   \n",
       "3           709         0           1      0       0         1         0   \n",
       "4           332         0           1      0       0         1         0   \n",
       "\n",
       "   January  July  June  March  May  November  October  September  \n",
       "0        0     0     0      0    0         0        0          0  \n",
       "1        0     0     0      0    0         0        0          0  \n",
       "2        0     0     0      0    0         0        0          0  \n",
       "3        0     0     0      0    0         0        0          0  \n",
       "4        0     0     0      0    0         0        0          0  "
      ]
     },
     "execution_count": 22,
     "metadata": {},
     "output_type": "execute_result"
    }
   ],
   "source": [
    "new_data.head()"
   ]
  },
  {
   "cell_type": "code",
   "execution_count": 23,
   "metadata": {},
   "outputs": [],
   "source": [
    "wcss = []\n",
    "for i in range(1,11):\n",
    "    kmeans = KMeans(n_clusters=i, init=\"k-means++\", random_state=42)\n",
    "    kmeans.fit(new_data.loc[:250000])\n",
    "    wcss.append(kmeans.inertia_)"
   ]
  },
  {
   "cell_type": "code",
   "execution_count": 24,
   "metadata": {},
   "outputs": [
    {
     "data": {
      "text/plain": [
       "Text(0, 0.5, 'WCSS')"
      ]
     },
     "execution_count": 24,
     "metadata": {},
     "output_type": "execute_result"
    },
    {
     "data": {
      "image/png": "[encoded data removed]",
      "text/plain": [
       "<Figure size 720x288 with 1 Axes>"
      ]
     },
     "metadata": {},
     "output_type": "display_data"
    }
   ],
   "source": [
    "plt.figure(figsize=(10,4))\n",
    "plt.plot(range(1,11), wcss, marker=\"o\", linestyle=\"--\")\n",
    "plt.xlabel(\"Number of Clusters\")\n",
    "plt.ylabel(\"WCSS\")"
   ]
  },
  {
   "cell_type": "code",
   "execution_count": 25,
   "metadata": {},
   "outputs": [
    {
     "data": {
      "text/plain": [
       "array([0, 0, 0, ..., 0, 0, 0])"
      ]
     },
     "execution_count": 25,
     "metadata": {},
     "output_type": "execute_result"
    }
   ],
   "source": [
    "''' It seems we have 3 clusters '''\n",
    "kmeans = KMeans(n_clusters=3, init=\"k-means++\", random_state=42)\n",
    "kmeans.fit(new_data)\n",
    "kmeans.labels_"
   ]
  },
  {
   "cell_type": "markdown",
   "metadata": {},
   "source": [
    "#### Let's try to plot them (just for fun)"
   ]
  },
  {
   "cell_type": "code",
   "execution_count": 26,
   "metadata": {},
   "outputs": [],
   "source": [
    "new_data[\"Segment K-means\"] = kmeans.labels_\n",
    "df_segm_analysis = new_data.groupby([\"Segment K-means\"]).mean()\n",
    "df_segm_analysis[\"Prop Obs\"] = new_data.groupby([\"Segment K-means\"]).count()[\"tripduration\"] / len(new_data)"
   ]
  },
  {
   "cell_type": "code",
   "execution_count": 27,
   "metadata": {},
   "outputs": [
    {
     "data": {
      "text/html": [
       "<div>\n",
       "<style scoped>\n",
       "    .dataframe tbody tr th:only-of-type {\n",
       "        vertical-align: middle;\n",
       "    }\n",
       "\n",
       "    .dataframe tbody tr th {\n",
       "        vertical-align: top;\n",
       "    }\n",
       "\n",
       "    .dataframe thead th {\n",
       "        text-align: right;\n",
       "    }\n",
       "</style>\n",
       "<table border=\"1\" class=\"dataframe\">\n",
       "  <thead>\n",
       "    <tr style=\"text-align: right;\">\n",
       "      <th></th>\n",
       "      <th>tripduration</th>\n",
       "      <th>Customer</th>\n",
       "      <th>Subscriber</th>\n",
       "      <th>April</th>\n",
       "      <th>August</th>\n",
       "      <th>December</th>\n",
       "      <th>February</th>\n",
       "      <th>January</th>\n",
       "      <th>July</th>\n",
       "      <th>June</th>\n",
       "      <th>March</th>\n",
       "      <th>May</th>\n",
       "      <th>November</th>\n",
       "      <th>October</th>\n",
       "      <th>September</th>\n",
       "      <th>Prop Obs</th>\n",
       "    </tr>\n",
       "    <tr>\n",
       "      <th>Segment K-means</th>\n",
       "      <th></th>\n",
       "      <th></th>\n",
       "      <th></th>\n",
       "      <th></th>\n",
       "      <th></th>\n",
       "      <th></th>\n",
       "      <th></th>\n",
       "      <th></th>\n",
       "      <th></th>\n",
       "      <th></th>\n",
       "      <th></th>\n",
       "      <th></th>\n",
       "      <th></th>\n",
       "      <th></th>\n",
       "      <th></th>\n",
       "      <th></th>\n",
       "    </tr>\n",
       "  </thead>\n",
       "  <tbody>\n",
       "    <tr>\n",
       "      <th>0</th>\n",
       "      <td>1.560352e+03</td>\n",
       "      <td>0.211745</td>\n",
       "      <td>0.788255</td>\n",
       "      <td>0.066079</td>\n",
       "      <td>0.133775</td>\n",
       "      <td>0.036552</td>\n",
       "      <td>0.031898</td>\n",
       "      <td>0.027698</td>\n",
       "      <td>0.125656</td>\n",
       "      <td>0.108634</td>\n",
       "      <td>0.04058</td>\n",
       "      <td>0.088433</td>\n",
       "      <td>0.075619</td>\n",
       "      <td>0.121105</td>\n",
       "      <td>0.14397</td>\n",
       "      <td>0.999946</td>\n",
       "    </tr>\n",
       "    <tr>\n",
       "      <th>1</th>\n",
       "      <td>7.391625e+06</td>\n",
       "      <td>0.898148</td>\n",
       "      <td>0.101852</td>\n",
       "      <td>0.000000</td>\n",
       "      <td>0.370370</td>\n",
       "      <td>0.000000</td>\n",
       "      <td>0.000000</td>\n",
       "      <td>0.000000</td>\n",
       "      <td>0.314815</td>\n",
       "      <td>0.314815</td>\n",
       "      <td>0.00000</td>\n",
       "      <td>0.000000</td>\n",
       "      <td>0.000000</td>\n",
       "      <td>0.000000</td>\n",
       "      <td>0.00000</td>\n",
       "      <td>0.000043</td>\n",
       "    </tr>\n",
       "    <tr>\n",
       "      <th>2</th>\n",
       "      <td>2.718311e+07</td>\n",
       "      <td>0.857143</td>\n",
       "      <td>0.142857</td>\n",
       "      <td>0.000000</td>\n",
       "      <td>0.500000</td>\n",
       "      <td>0.000000</td>\n",
       "      <td>0.000000</td>\n",
       "      <td>0.000000</td>\n",
       "      <td>0.357143</td>\n",
       "      <td>0.142857</td>\n",
       "      <td>0.00000</td>\n",
       "      <td>0.000000</td>\n",
       "      <td>0.000000</td>\n",
       "      <td>0.000000</td>\n",
       "      <td>0.00000</td>\n",
       "      <td>0.000011</td>\n",
       "    </tr>\n",
       "  </tbody>\n",
       "</table>\n",
       "</div>"
      ],
      "text/plain": [
       "                 tripduration  Customer  Subscriber     April    August  \\\n",
       "Segment K-means                                                           \n",
       "0                1.560352e+03  0.211745    0.788255  0.066079  0.133775   \n",
       "1                7.391625e+06  0.898148    0.101852  0.000000  0.370370   \n",
       "2                2.718311e+07  0.857143    0.142857  0.000000  0.500000   \n",
       "\n",
       "                 December  February   January      July      June    March  \\\n",
       "Segment K-means                                                              \n",
       "0                0.036552  0.031898  0.027698  0.125656  0.108634  0.04058   \n",
       "1                0.000000  0.000000  0.000000  0.314815  0.314815  0.00000   \n",
       "2                0.000000  0.000000  0.000000  0.357143  0.142857  0.00000   \n",
       "\n",
       "                      May  November   October  September  Prop Obs  \n",
       "Segment K-means                                                     \n",
       "0                0.088433  0.075619  0.121105    0.14397  0.999946  \n",
       "1                0.000000  0.000000  0.000000    0.00000  0.000043  \n",
       "2                0.000000  0.000000  0.000000    0.00000  0.000011  "
      ]
     },
     "execution_count": 27,
     "metadata": {},
     "output_type": "execute_result"
    }
   ],
   "source": [
    "df_segm_analysis"
   ]
  },
  {
   "cell_type": "code",
   "execution_count": 28,
   "metadata": {},
   "outputs": [],
   "source": [
    "new_trip_2019 = trip_2019.copy()\n",
    "\n",
    "new_trip_2019[\"Labels\"] = new_data[\"Segment K-means\"].map(({0:\"Regular Subscriber (Short Distance)\",\n",
    "                        1:\"Summer Customer (Long Distance)\",\n",
    "                        2:\"Summer Customer (Short Distance)\"}))"
   ]
  },
  {
   "cell_type": "code",
   "execution_count": 29,
   "metadata": {},
   "outputs": [
    {
     "data": {
      "text/html": [
       "<div>\n",
       "<style scoped>\n",
       "    .dataframe tbody tr th:only-of-type {\n",
       "        vertical-align: middle;\n",
       "    }\n",
       "\n",
       "    .dataframe tbody tr th {\n",
       "        vertical-align: top;\n",
       "    }\n",
       "\n",
       "    .dataframe thead th {\n",
       "        text-align: right;\n",
       "    }\n",
       "</style>\n",
       "<table border=\"1\" class=\"dataframe\">\n",
       "  <thead>\n",
       "    <tr style=\"text-align: right;\">\n",
       "      <th></th>\n",
       "      <th>tripduration</th>\n",
       "      <th>starttime</th>\n",
       "      <th>stoptime</th>\n",
       "      <th>start station id</th>\n",
       "      <th>start station name</th>\n",
       "      <th>start station latitude</th>\n",
       "      <th>start station longitude</th>\n",
       "      <th>end station id</th>\n",
       "      <th>end station name</th>\n",
       "      <th>end station latitude</th>\n",
       "      <th>end station longitude</th>\n",
       "      <th>bikeid</th>\n",
       "      <th>usertype</th>\n",
       "      <th>year</th>\n",
       "      <th>month</th>\n",
       "      <th>Labels</th>\n",
       "    </tr>\n",
       "  </thead>\n",
       "  <tbody>\n",
       "    <tr>\n",
       "      <th>0</th>\n",
       "      <td>790</td>\n",
       "      <td>2019-12-01 00:01:25.3240</td>\n",
       "      <td>2019-12-01 00:14:35.3350</td>\n",
       "      <td>370</td>\n",
       "      <td>Dartmouth St at Newbury St</td>\n",
       "      <td>42.350961</td>\n",
       "      <td>-71.077828</td>\n",
       "      <td>33</td>\n",
       "      <td>Kenmore Square</td>\n",
       "      <td>42.348706</td>\n",
       "      <td>-71.097009</td>\n",
       "      <td>5133</td>\n",
       "      <td>Subscriber</td>\n",
       "      <td>2019</td>\n",
       "      <td>12</td>\n",
       "      <td>Regular Subscriber (Short Distance)</td>\n",
       "    </tr>\n",
       "  </tbody>\n",
       "</table>\n",
       "</div>"
      ],
      "text/plain": [
       "   tripduration                 starttime                  stoptime  \\\n",
       "0           790  2019-12-01 00:01:25.3240  2019-12-01 00:14:35.3350   \n",
       "\n",
       "   start station id          start station name  start station latitude  \\\n",
       "0               370  Dartmouth St at Newbury St               42.350961   \n",
       "\n",
       "   start station longitude  end station id end station name  \\\n",
       "0               -71.077828              33   Kenmore Square   \n",
       "\n",
       "   end station latitude  end station longitude  bikeid    usertype  year  \\\n",
       "0             42.348706             -71.097009    5133  Subscriber  2019   \n",
       "\n",
       "   month                               Labels  \n",
       "0     12  Regular Subscriber (Short Distance)  "
      ]
     },
     "execution_count": 29,
     "metadata": {},
     "output_type": "execute_result"
    }
   ],
   "source": [
    "new_trip_2019.head(1)"
   ]
  },
  {
   "cell_type": "code",
   "execution_count": 30,
   "metadata": {},
   "outputs": [
    {
     "data": {
      "image/png": "[encoded data removed]",
      "text/plain": [
       "<Figure size 720x576 with 1 Axes>"
      ]
     },
     "metadata": {},
     "output_type": "display_data"
    }
   ],
   "source": [
    "x_axis = new_trip_2019[\"tripduration\"]\n",
    "y_axis = new_trip_2019[\"start station id\"]\n",
    "\n",
    "plt.figure(figsize=(10,8))\n",
    "sns.scatterplot(x_axis, y_axis, hue=new_trip_2019[\"Labels\"])\n",
    "plt.title(\"Segmentation K-means\")\n",
    "plt.show()"
   ]
  },
  {
   "cell_type": "code",
   "execution_count": null,
   "metadata": {},
   "outputs": [],
   "source": []
  }
 ],
 "metadata": {
  "kernelspec": {
   "display_name": "Python 3",
   "language": "python",
   "name": "python3"
  },
  "language_info": {
   "codemirror_mode": {
    "name": "ipython",
    "version": 3
   },
   "file_extension": ".py",
   "mimetype": "text/x-python",
   "name": "python",
   "nbconvert_exporter": "python",
   "pygments_lexer": "ipython3",
   "version": "3.8.3"
  }
 },
 "nbformat": 4,
 "nbformat_minor": 4
}
